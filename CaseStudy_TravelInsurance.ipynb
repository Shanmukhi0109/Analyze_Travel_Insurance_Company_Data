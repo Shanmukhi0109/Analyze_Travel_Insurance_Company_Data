{
 "cells": [
  {
   "cell_type": "code",
   "execution_count": 1,
   "id": "67435cf5",
   "metadata": {},
   "outputs": [],
   "source": [
    "import numpy as np\n",
    "import pandas as pd\n",
    "import matplotlib.pyplot as plt"
   ]
  },
  {
   "cell_type": "code",
   "execution_count": 2,
   "id": "dc27ccda",
   "metadata": {},
   "outputs": [
    {
     "data": {
      "text/html": [
       "<div>\n",
       "<style scoped>\n",
       "    .dataframe tbody tr th:only-of-type {\n",
       "        vertical-align: middle;\n",
       "    }\n",
       "\n",
       "    .dataframe tbody tr th {\n",
       "        vertical-align: top;\n",
       "    }\n",
       "\n",
       "    .dataframe thead th {\n",
       "        text-align: right;\n",
       "    }\n",
       "</style>\n",
       "<table border=\"1\" class=\"dataframe\">\n",
       "  <thead>\n",
       "    <tr style=\"text-align: right;\">\n",
       "      <th></th>\n",
       "      <th>Age</th>\n",
       "      <th>Employment Type</th>\n",
       "      <th>GraduateOrNot</th>\n",
       "      <th>AnnualIncome</th>\n",
       "      <th>FamilyMembers</th>\n",
       "      <th>ChronicDiseases</th>\n",
       "      <th>FrequentFlyer</th>\n",
       "      <th>EverTravelledAbroad</th>\n",
       "      <th>TravelInsurance</th>\n",
       "    </tr>\n",
       "  </thead>\n",
       "  <tbody>\n",
       "    <tr>\n",
       "      <th>0</th>\n",
       "      <td>31</td>\n",
       "      <td>Government Sector</td>\n",
       "      <td>Yes</td>\n",
       "      <td>400000</td>\n",
       "      <td>6</td>\n",
       "      <td>1</td>\n",
       "      <td>No</td>\n",
       "      <td>No</td>\n",
       "      <td>0</td>\n",
       "    </tr>\n",
       "    <tr>\n",
       "      <th>1</th>\n",
       "      <td>31</td>\n",
       "      <td>Private Sector/Self Employed</td>\n",
       "      <td>Yes</td>\n",
       "      <td>1250000</td>\n",
       "      <td>7</td>\n",
       "      <td>0</td>\n",
       "      <td>No</td>\n",
       "      <td>No</td>\n",
       "      <td>0</td>\n",
       "    </tr>\n",
       "    <tr>\n",
       "      <th>2</th>\n",
       "      <td>34</td>\n",
       "      <td>Private Sector/Self Employed</td>\n",
       "      <td>Yes</td>\n",
       "      <td>500000</td>\n",
       "      <td>4</td>\n",
       "      <td>1</td>\n",
       "      <td>No</td>\n",
       "      <td>No</td>\n",
       "      <td>1</td>\n",
       "    </tr>\n",
       "    <tr>\n",
       "      <th>3</th>\n",
       "      <td>28</td>\n",
       "      <td>Private Sector/Self Employed</td>\n",
       "      <td>Yes</td>\n",
       "      <td>700000</td>\n",
       "      <td>3</td>\n",
       "      <td>1</td>\n",
       "      <td>No</td>\n",
       "      <td>No</td>\n",
       "      <td>0</td>\n",
       "    </tr>\n",
       "    <tr>\n",
       "      <th>4</th>\n",
       "      <td>28</td>\n",
       "      <td>Private Sector/Self Employed</td>\n",
       "      <td>Yes</td>\n",
       "      <td>700000</td>\n",
       "      <td>8</td>\n",
       "      <td>1</td>\n",
       "      <td>Yes</td>\n",
       "      <td>No</td>\n",
       "      <td>0</td>\n",
       "    </tr>\n",
       "  </tbody>\n",
       "</table>\n",
       "</div>"
      ],
      "text/plain": [
       "   Age               Employment Type GraduateOrNot  AnnualIncome  \\\n",
       "0   31             Government Sector           Yes        400000   \n",
       "1   31  Private Sector/Self Employed           Yes       1250000   \n",
       "2   34  Private Sector/Self Employed           Yes        500000   \n",
       "3   28  Private Sector/Self Employed           Yes        700000   \n",
       "4   28  Private Sector/Self Employed           Yes        700000   \n",
       "\n",
       "   FamilyMembers  ChronicDiseases FrequentFlyer EverTravelledAbroad  \\\n",
       "0              6                1            No                  No   \n",
       "1              7                0            No                  No   \n",
       "2              4                1            No                  No   \n",
       "3              3                1            No                  No   \n",
       "4              8                1           Yes                  No   \n",
       "\n",
       "   TravelInsurance  \n",
       "0                0  \n",
       "1                0  \n",
       "2                1  \n",
       "3                0  \n",
       "4                0  "
      ]
     },
     "execution_count": 2,
     "metadata": {},
     "output_type": "execute_result"
    }
   ],
   "source": [
    "df=pd.read_csv(\"travel_insurance.csv\")\n",
    "df.head()"
   ]
  },
  {
   "cell_type": "code",
   "execution_count": 3,
   "id": "934ef83d",
   "metadata": {},
   "outputs": [
    {
     "data": {
      "text/plain": [
       "(1987, 9)"
      ]
     },
     "execution_count": 3,
     "metadata": {},
     "output_type": "execute_result"
    }
   ],
   "source": [
    "df.shape"
   ]
  },
  {
   "cell_type": "markdown",
   "id": "ee67c79e",
   "metadata": {},
   "source": [
    "## DATA WRANGLING\n"
   ]
  },
  {
   "cell_type": "code",
   "execution_count": 4,
   "id": "7f03b229",
   "metadata": {},
   "outputs": [
    {
     "name": "stdout",
     "output_type": "stream",
     "text": [
      "<class 'pandas.core.frame.DataFrame'>\n",
      "RangeIndex: 1987 entries, 0 to 1986\n",
      "Data columns (total 9 columns):\n",
      " #   Column               Non-Null Count  Dtype \n",
      "---  ------               --------------  ----- \n",
      " 0   Age                  1987 non-null   int64 \n",
      " 1   Employment Type      1987 non-null   object\n",
      " 2   GraduateOrNot        1987 non-null   object\n",
      " 3   AnnualIncome         1987 non-null   int64 \n",
      " 4   FamilyMembers        1987 non-null   int64 \n",
      " 5   ChronicDiseases      1987 non-null   int64 \n",
      " 6   FrequentFlyer        1987 non-null   object\n",
      " 7   EverTravelledAbroad  1987 non-null   object\n",
      " 8   TravelInsurance      1987 non-null   int64 \n",
      "dtypes: int64(5), object(4)\n",
      "memory usage: 139.8+ KB\n"
     ]
    }
   ],
   "source": [
    "#checking whether columns are of correct data types or not?\n",
    "df.info()"
   ]
  },
  {
   "cell_type": "code",
   "execution_count": 5,
   "id": "23e394d4",
   "metadata": {},
   "outputs": [
    {
     "data": {
      "text/plain": [
       "Age                    0\n",
       "Employment Type        0\n",
       "GraduateOrNot          0\n",
       "AnnualIncome           0\n",
       "FamilyMembers          0\n",
       "ChronicDiseases        0\n",
       "FrequentFlyer          0\n",
       "EverTravelledAbroad    0\n",
       "TravelInsurance        0\n",
       "dtype: int64"
      ]
     },
     "execution_count": 5,
     "metadata": {},
     "output_type": "execute_result"
    }
   ],
   "source": [
    "#checking for null values\n",
    "df.isnull().sum()"
   ]
  },
  {
   "cell_type": "code",
   "execution_count": 6,
   "id": "555fa73e",
   "metadata": {},
   "outputs": [
    {
     "data": {
      "text/plain": [
       "array(['Government Sector', 'Private Sector/Self Employed'], dtype=object)"
      ]
     },
     "execution_count": 6,
     "metadata": {},
     "output_type": "execute_result"
    }
   ],
   "source": [
    "df['Employment Type'].unique()"
   ]
  },
  {
   "cell_type": "code",
   "execution_count": 7,
   "id": "9ae895da",
   "metadata": {},
   "outputs": [
    {
     "data": {
      "text/plain": [
       "array([ 300000.,  800000., 1300000., 1800000.])"
      ]
     },
     "execution_count": 7,
     "metadata": {},
     "output_type": "execute_result"
    }
   ],
   "source": [
    "#bining Income column for grouped analysis\n",
    "bins = np.linspace(min(df[\"AnnualIncome\"]), max(df[\"AnnualIncome\"]), 4)\n",
    "bins\n"
   ]
  },
  {
   "cell_type": "code",
   "execution_count": 8,
   "id": "85ca4e5a",
   "metadata": {},
   "outputs": [
    {
     "data": {
      "text/html": [
       "<div>\n",
       "<style scoped>\n",
       "    .dataframe tbody tr th:only-of-type {\n",
       "        vertical-align: middle;\n",
       "    }\n",
       "\n",
       "    .dataframe tbody tr th {\n",
       "        vertical-align: top;\n",
       "    }\n",
       "\n",
       "    .dataframe thead th {\n",
       "        text-align: right;\n",
       "    }\n",
       "</style>\n",
       "<table border=\"1\" class=\"dataframe\">\n",
       "  <thead>\n",
       "    <tr style=\"text-align: right;\">\n",
       "      <th></th>\n",
       "      <th>Age</th>\n",
       "      <th>Employment Type</th>\n",
       "      <th>GraduateOrNot</th>\n",
       "      <th>AnnualIncome</th>\n",
       "      <th>FamilyMembers</th>\n",
       "      <th>ChronicDiseases</th>\n",
       "      <th>FrequentFlyer</th>\n",
       "      <th>EverTravelledAbroad</th>\n",
       "      <th>TravelInsurance</th>\n",
       "      <th>AnnualIncome_binned</th>\n",
       "    </tr>\n",
       "  </thead>\n",
       "  <tbody>\n",
       "    <tr>\n",
       "      <th>0</th>\n",
       "      <td>31</td>\n",
       "      <td>Government Sector</td>\n",
       "      <td>Yes</td>\n",
       "      <td>400000</td>\n",
       "      <td>6</td>\n",
       "      <td>1</td>\n",
       "      <td>No</td>\n",
       "      <td>No</td>\n",
       "      <td>0</td>\n",
       "      <td>Low</td>\n",
       "    </tr>\n",
       "    <tr>\n",
       "      <th>1</th>\n",
       "      <td>31</td>\n",
       "      <td>Private Sector/Self Employed</td>\n",
       "      <td>Yes</td>\n",
       "      <td>1250000</td>\n",
       "      <td>7</td>\n",
       "      <td>0</td>\n",
       "      <td>No</td>\n",
       "      <td>No</td>\n",
       "      <td>0</td>\n",
       "      <td>Medium</td>\n",
       "    </tr>\n",
       "    <tr>\n",
       "      <th>2</th>\n",
       "      <td>34</td>\n",
       "      <td>Private Sector/Self Employed</td>\n",
       "      <td>Yes</td>\n",
       "      <td>500000</td>\n",
       "      <td>4</td>\n",
       "      <td>1</td>\n",
       "      <td>No</td>\n",
       "      <td>No</td>\n",
       "      <td>1</td>\n",
       "      <td>Low</td>\n",
       "    </tr>\n",
       "    <tr>\n",
       "      <th>3</th>\n",
       "      <td>28</td>\n",
       "      <td>Private Sector/Self Employed</td>\n",
       "      <td>Yes</td>\n",
       "      <td>700000</td>\n",
       "      <td>3</td>\n",
       "      <td>1</td>\n",
       "      <td>No</td>\n",
       "      <td>No</td>\n",
       "      <td>0</td>\n",
       "      <td>Low</td>\n",
       "    </tr>\n",
       "    <tr>\n",
       "      <th>4</th>\n",
       "      <td>28</td>\n",
       "      <td>Private Sector/Self Employed</td>\n",
       "      <td>Yes</td>\n",
       "      <td>700000</td>\n",
       "      <td>8</td>\n",
       "      <td>1</td>\n",
       "      <td>Yes</td>\n",
       "      <td>No</td>\n",
       "      <td>0</td>\n",
       "      <td>Low</td>\n",
       "    </tr>\n",
       "    <tr>\n",
       "      <th>5</th>\n",
       "      <td>25</td>\n",
       "      <td>Private Sector/Self Employed</td>\n",
       "      <td>No</td>\n",
       "      <td>1150000</td>\n",
       "      <td>4</td>\n",
       "      <td>0</td>\n",
       "      <td>No</td>\n",
       "      <td>No</td>\n",
       "      <td>0</td>\n",
       "      <td>Medium</td>\n",
       "    </tr>\n",
       "    <tr>\n",
       "      <th>6</th>\n",
       "      <td>31</td>\n",
       "      <td>Government Sector</td>\n",
       "      <td>Yes</td>\n",
       "      <td>1300000</td>\n",
       "      <td>4</td>\n",
       "      <td>0</td>\n",
       "      <td>No</td>\n",
       "      <td>No</td>\n",
       "      <td>0</td>\n",
       "      <td>Medium</td>\n",
       "    </tr>\n",
       "    <tr>\n",
       "      <th>7</th>\n",
       "      <td>31</td>\n",
       "      <td>Private Sector/Self Employed</td>\n",
       "      <td>Yes</td>\n",
       "      <td>1350000</td>\n",
       "      <td>3</td>\n",
       "      <td>0</td>\n",
       "      <td>Yes</td>\n",
       "      <td>Yes</td>\n",
       "      <td>1</td>\n",
       "      <td>High</td>\n",
       "    </tr>\n",
       "    <tr>\n",
       "      <th>8</th>\n",
       "      <td>28</td>\n",
       "      <td>Private Sector/Self Employed</td>\n",
       "      <td>Yes</td>\n",
       "      <td>1450000</td>\n",
       "      <td>6</td>\n",
       "      <td>1</td>\n",
       "      <td>Yes</td>\n",
       "      <td>Yes</td>\n",
       "      <td>1</td>\n",
       "      <td>High</td>\n",
       "    </tr>\n",
       "    <tr>\n",
       "      <th>9</th>\n",
       "      <td>33</td>\n",
       "      <td>Government Sector</td>\n",
       "      <td>Yes</td>\n",
       "      <td>800000</td>\n",
       "      <td>3</td>\n",
       "      <td>0</td>\n",
       "      <td>Yes</td>\n",
       "      <td>No</td>\n",
       "      <td>0</td>\n",
       "      <td>Low</td>\n",
       "    </tr>\n",
       "    <tr>\n",
       "      <th>10</th>\n",
       "      <td>31</td>\n",
       "      <td>Government Sector</td>\n",
       "      <td>Yes</td>\n",
       "      <td>400000</td>\n",
       "      <td>9</td>\n",
       "      <td>1</td>\n",
       "      <td>No</td>\n",
       "      <td>No</td>\n",
       "      <td>0</td>\n",
       "      <td>Low</td>\n",
       "    </tr>\n",
       "    <tr>\n",
       "      <th>11</th>\n",
       "      <td>26</td>\n",
       "      <td>Private Sector/Self Employed</td>\n",
       "      <td>Yes</td>\n",
       "      <td>1400000</td>\n",
       "      <td>5</td>\n",
       "      <td>0</td>\n",
       "      <td>Yes</td>\n",
       "      <td>Yes</td>\n",
       "      <td>1</td>\n",
       "      <td>High</td>\n",
       "    </tr>\n",
       "    <tr>\n",
       "      <th>12</th>\n",
       "      <td>32</td>\n",
       "      <td>Government Sector</td>\n",
       "      <td>Yes</td>\n",
       "      <td>850000</td>\n",
       "      <td>6</td>\n",
       "      <td>0</td>\n",
       "      <td>No</td>\n",
       "      <td>No</td>\n",
       "      <td>1</td>\n",
       "      <td>Medium</td>\n",
       "    </tr>\n",
       "    <tr>\n",
       "      <th>13</th>\n",
       "      <td>31</td>\n",
       "      <td>Government Sector</td>\n",
       "      <td>Yes</td>\n",
       "      <td>1500000</td>\n",
       "      <td>6</td>\n",
       "      <td>0</td>\n",
       "      <td>Yes</td>\n",
       "      <td>Yes</td>\n",
       "      <td>1</td>\n",
       "      <td>High</td>\n",
       "    </tr>\n",
       "    <tr>\n",
       "      <th>14</th>\n",
       "      <td>31</td>\n",
       "      <td>Government Sector</td>\n",
       "      <td>Yes</td>\n",
       "      <td>400000</td>\n",
       "      <td>3</td>\n",
       "      <td>0</td>\n",
       "      <td>No</td>\n",
       "      <td>No</td>\n",
       "      <td>0</td>\n",
       "      <td>Low</td>\n",
       "    </tr>\n",
       "  </tbody>\n",
       "</table>\n",
       "</div>"
      ],
      "text/plain": [
       "    Age               Employment Type GraduateOrNot  AnnualIncome  \\\n",
       "0    31             Government Sector           Yes        400000   \n",
       "1    31  Private Sector/Self Employed           Yes       1250000   \n",
       "2    34  Private Sector/Self Employed           Yes        500000   \n",
       "3    28  Private Sector/Self Employed           Yes        700000   \n",
       "4    28  Private Sector/Self Employed           Yes        700000   \n",
       "5    25  Private Sector/Self Employed            No       1150000   \n",
       "6    31             Government Sector           Yes       1300000   \n",
       "7    31  Private Sector/Self Employed           Yes       1350000   \n",
       "8    28  Private Sector/Self Employed           Yes       1450000   \n",
       "9    33             Government Sector           Yes        800000   \n",
       "10   31             Government Sector           Yes        400000   \n",
       "11   26  Private Sector/Self Employed           Yes       1400000   \n",
       "12   32             Government Sector           Yes        850000   \n",
       "13   31             Government Sector           Yes       1500000   \n",
       "14   31             Government Sector           Yes        400000   \n",
       "\n",
       "    FamilyMembers  ChronicDiseases FrequentFlyer EverTravelledAbroad  \\\n",
       "0               6                1            No                  No   \n",
       "1               7                0            No                  No   \n",
       "2               4                1            No                  No   \n",
       "3               3                1            No                  No   \n",
       "4               8                1           Yes                  No   \n",
       "5               4                0            No                  No   \n",
       "6               4                0            No                  No   \n",
       "7               3                0           Yes                 Yes   \n",
       "8               6                1           Yes                 Yes   \n",
       "9               3                0           Yes                  No   \n",
       "10              9                1            No                  No   \n",
       "11              5                0           Yes                 Yes   \n",
       "12              6                0            No                  No   \n",
       "13              6                0           Yes                 Yes   \n",
       "14              3                0            No                  No   \n",
       "\n",
       "    TravelInsurance AnnualIncome_binned  \n",
       "0                 0                 Low  \n",
       "1                 0              Medium  \n",
       "2                 1                 Low  \n",
       "3                 0                 Low  \n",
       "4                 0                 Low  \n",
       "5                 0              Medium  \n",
       "6                 0              Medium  \n",
       "7                 1                High  \n",
       "8                 1                High  \n",
       "9                 0                 Low  \n",
       "10                0                 Low  \n",
       "11                1                High  \n",
       "12                1              Medium  \n",
       "13                1                High  \n",
       "14                0                 Low  "
      ]
     },
     "execution_count": 8,
     "metadata": {},
     "output_type": "execute_result"
    }
   ],
   "source": [
    "#So here annual income ranges from 3lakhs to 18 lakhs\n",
    "bins_names=['Low','Medium','High']\n",
    "df['AnnualIncome_binned'] = pd.cut(df['AnnualIncome'], bins, labels=bins_names, include_lowest=True )\n",
    "df.head(15)"
   ]
  },
  {
   "cell_type": "code",
   "execution_count": 62,
   "id": "e29ff1b6",
   "metadata": {},
   "outputs": [
    {
     "data": {
      "image/png": "[encoded data removed]",
      "text/plain": [
       "<Figure size 432x288 with 1 Axes>"
      ]
     },
     "metadata": {
      "needs_background": "light"
     },
     "output_type": "display_data"
    }
   ],
   "source": [
    "\n",
    "%matplotlib inline\n",
    "\n",
    "plt.bar(bins_names,df[\"AnnualIncome_binned\"].value_counts())\n",
    "plt.xlabel(\"Annual Income\")\n",
    "plt.ylabel(\"Count\")\n",
    "plt.title(\"Annual Income bins\")\n",
    "\n",
    "\n",
    "plt.show()"
   ]
  },
  {
   "cell_type": "code",
   "execution_count": 10,
   "id": "2480bc8e",
   "metadata": {},
   "outputs": [
    {
     "data": {
      "text/plain": [
       "Text(0.5, 1.0, 'Annual Income bins')"
      ]
     },
     "execution_count": 10,
     "metadata": {},
     "output_type": "execute_result"
    },
    {
     "data": {
      "image/png": "[encoded data removed]",
      "text/plain": [
       "<Figure size 432x288 with 1 Axes>"
      ]
     },
     "metadata": {
      "needs_background": "light"
     },
     "output_type": "display_data"
    }
   ],
   "source": [
    "#Histogram to visualize distribution of bins\n",
    "plt.hist(df['AnnualIncome'],bins=3)\n",
    "plt.xlabel(\"Annual Income\")\n",
    "plt.ylabel(\"Count\")\n",
    "plt.title(\"Annual Income bins\")"
   ]
  },
  {
   "cell_type": "code",
   "execution_count": 47,
   "id": "a69054e7",
   "metadata": {},
   "outputs": [
    {
     "data": {
      "text/plain": [
       "0    1277\n",
       "1     710\n",
       "Name: TravelInsurance, dtype: int64"
      ]
     },
     "execution_count": 47,
     "metadata": {},
     "output_type": "execute_result"
    }
   ],
   "source": [
    "df['TravelInsurance'].value_counts()"
   ]
  },
  {
   "cell_type": "markdown",
   "id": "9136efac",
   "metadata": {},
   "source": [
    "## EXPLORATORY DATA ANALYSIS"
   ]
  },
  {
   "cell_type": "code",
   "execution_count": 11,
   "id": "be73447c",
   "metadata": {},
   "outputs": [
    {
     "data": {
      "text/html": [
       "<div>\n",
       "<style scoped>\n",
       "    .dataframe tbody tr th:only-of-type {\n",
       "        vertical-align: middle;\n",
       "    }\n",
       "\n",
       "    .dataframe tbody tr th {\n",
       "        vertical-align: top;\n",
       "    }\n",
       "\n",
       "    .dataframe thead th {\n",
       "        text-align: right;\n",
       "    }\n",
       "</style>\n",
       "<table border=\"1\" class=\"dataframe\">\n",
       "  <thead>\n",
       "    <tr style=\"text-align: right;\">\n",
       "      <th></th>\n",
       "      <th>Age</th>\n",
       "      <th>AnnualIncome</th>\n",
       "      <th>FamilyMembers</th>\n",
       "      <th>ChronicDiseases</th>\n",
       "      <th>TravelInsurance</th>\n",
       "    </tr>\n",
       "  </thead>\n",
       "  <tbody>\n",
       "    <tr>\n",
       "      <th>Age</th>\n",
       "      <td>1.000000</td>\n",
       "      <td>-0.020101</td>\n",
       "      <td>0.027409</td>\n",
       "      <td>0.007359</td>\n",
       "      <td>0.061060</td>\n",
       "    </tr>\n",
       "    <tr>\n",
       "      <th>AnnualIncome</th>\n",
       "      <td>-0.020101</td>\n",
       "      <td>1.000000</td>\n",
       "      <td>-0.015367</td>\n",
       "      <td>-0.001149</td>\n",
       "      <td>0.396763</td>\n",
       "    </tr>\n",
       "    <tr>\n",
       "      <th>FamilyMembers</th>\n",
       "      <td>0.027409</td>\n",
       "      <td>-0.015367</td>\n",
       "      <td>1.000000</td>\n",
       "      <td>0.028209</td>\n",
       "      <td>0.079909</td>\n",
       "    </tr>\n",
       "    <tr>\n",
       "      <th>ChronicDiseases</th>\n",
       "      <td>0.007359</td>\n",
       "      <td>-0.001149</td>\n",
       "      <td>0.028209</td>\n",
       "      <td>1.000000</td>\n",
       "      <td>0.018190</td>\n",
       "    </tr>\n",
       "    <tr>\n",
       "      <th>TravelInsurance</th>\n",
       "      <td>0.061060</td>\n",
       "      <td>0.396763</td>\n",
       "      <td>0.079909</td>\n",
       "      <td>0.018190</td>\n",
       "      <td>1.000000</td>\n",
       "    </tr>\n",
       "  </tbody>\n",
       "</table>\n",
       "</div>"
      ],
      "text/plain": [
       "                      Age  AnnualIncome  FamilyMembers  ChronicDiseases  \\\n",
       "Age              1.000000     -0.020101       0.027409         0.007359   \n",
       "AnnualIncome    -0.020101      1.000000      -0.015367        -0.001149   \n",
       "FamilyMembers    0.027409     -0.015367       1.000000         0.028209   \n",
       "ChronicDiseases  0.007359     -0.001149       0.028209         1.000000   \n",
       "TravelInsurance  0.061060      0.396763       0.079909         0.018190   \n",
       "\n",
       "                 TravelInsurance  \n",
       "Age                     0.061060  \n",
       "AnnualIncome            0.396763  \n",
       "FamilyMembers           0.079909  \n",
       "ChronicDiseases         0.018190  \n",
       "TravelInsurance         1.000000  "
      ]
     },
     "execution_count": 11,
     "metadata": {},
     "output_type": "execute_result"
    }
   ],
   "source": [
    "df.corr()"
   ]
  },
  {
   "cell_type": "code",
   "execution_count": 12,
   "id": "70feb29d",
   "metadata": {},
   "outputs": [
    {
     "data": {
      "text/html": [
       "<div>\n",
       "<style scoped>\n",
       "    .dataframe tbody tr th:only-of-type {\n",
       "        vertical-align: middle;\n",
       "    }\n",
       "\n",
       "    .dataframe tbody tr th {\n",
       "        vertical-align: top;\n",
       "    }\n",
       "\n",
       "    .dataframe thead th {\n",
       "        text-align: right;\n",
       "    }\n",
       "</style>\n",
       "<table border=\"1\" class=\"dataframe\">\n",
       "  <thead>\n",
       "    <tr style=\"text-align: right;\">\n",
       "      <th></th>\n",
       "      <th>Age</th>\n",
       "      <th>Employment Type</th>\n",
       "      <th>GraduateOrNot</th>\n",
       "      <th>AnnualIncome</th>\n",
       "      <th>FamilyMembers</th>\n",
       "      <th>ChronicDiseases</th>\n",
       "      <th>FrequentFlyer</th>\n",
       "      <th>EverTravelledAbroad</th>\n",
       "      <th>TravelInsurance</th>\n",
       "      <th>AnnualIncome_binned</th>\n",
       "    </tr>\n",
       "  </thead>\n",
       "  <tbody>\n",
       "    <tr>\n",
       "      <th>count</th>\n",
       "      <td>1987.000000</td>\n",
       "      <td>1987</td>\n",
       "      <td>1987</td>\n",
       "      <td>1.987000e+03</td>\n",
       "      <td>1987.000000</td>\n",
       "      <td>1987.000000</td>\n",
       "      <td>1987</td>\n",
       "      <td>1987</td>\n",
       "      <td>1987.000000</td>\n",
       "      <td>1987</td>\n",
       "    </tr>\n",
       "    <tr>\n",
       "      <th>unique</th>\n",
       "      <td>NaN</td>\n",
       "      <td>2</td>\n",
       "      <td>2</td>\n",
       "      <td>NaN</td>\n",
       "      <td>NaN</td>\n",
       "      <td>NaN</td>\n",
       "      <td>2</td>\n",
       "      <td>2</td>\n",
       "      <td>NaN</td>\n",
       "      <td>3</td>\n",
       "    </tr>\n",
       "    <tr>\n",
       "      <th>top</th>\n",
       "      <td>NaN</td>\n",
       "      <td>Private Sector/Self Employed</td>\n",
       "      <td>Yes</td>\n",
       "      <td>NaN</td>\n",
       "      <td>NaN</td>\n",
       "      <td>NaN</td>\n",
       "      <td>No</td>\n",
       "      <td>No</td>\n",
       "      <td>NaN</td>\n",
       "      <td>Low</td>\n",
       "    </tr>\n",
       "    <tr>\n",
       "      <th>freq</th>\n",
       "      <td>NaN</td>\n",
       "      <td>1417</td>\n",
       "      <td>1692</td>\n",
       "      <td>NaN</td>\n",
       "      <td>NaN</td>\n",
       "      <td>NaN</td>\n",
       "      <td>1570</td>\n",
       "      <td>1607</td>\n",
       "      <td>NaN</td>\n",
       "      <td>888</td>\n",
       "    </tr>\n",
       "    <tr>\n",
       "      <th>mean</th>\n",
       "      <td>29.650226</td>\n",
       "      <td>NaN</td>\n",
       "      <td>NaN</td>\n",
       "      <td>9.327630e+05</td>\n",
       "      <td>4.752894</td>\n",
       "      <td>0.277806</td>\n",
       "      <td>NaN</td>\n",
       "      <td>NaN</td>\n",
       "      <td>0.357323</td>\n",
       "      <td>NaN</td>\n",
       "    </tr>\n",
       "    <tr>\n",
       "      <th>std</th>\n",
       "      <td>2.913308</td>\n",
       "      <td>NaN</td>\n",
       "      <td>NaN</td>\n",
       "      <td>3.768557e+05</td>\n",
       "      <td>1.609650</td>\n",
       "      <td>0.448030</td>\n",
       "      <td>NaN</td>\n",
       "      <td>NaN</td>\n",
       "      <td>0.479332</td>\n",
       "      <td>NaN</td>\n",
       "    </tr>\n",
       "    <tr>\n",
       "      <th>min</th>\n",
       "      <td>25.000000</td>\n",
       "      <td>NaN</td>\n",
       "      <td>NaN</td>\n",
       "      <td>3.000000e+05</td>\n",
       "      <td>2.000000</td>\n",
       "      <td>0.000000</td>\n",
       "      <td>NaN</td>\n",
       "      <td>NaN</td>\n",
       "      <td>0.000000</td>\n",
       "      <td>NaN</td>\n",
       "    </tr>\n",
       "    <tr>\n",
       "      <th>25%</th>\n",
       "      <td>28.000000</td>\n",
       "      <td>NaN</td>\n",
       "      <td>NaN</td>\n",
       "      <td>6.000000e+05</td>\n",
       "      <td>4.000000</td>\n",
       "      <td>0.000000</td>\n",
       "      <td>NaN</td>\n",
       "      <td>NaN</td>\n",
       "      <td>0.000000</td>\n",
       "      <td>NaN</td>\n",
       "    </tr>\n",
       "    <tr>\n",
       "      <th>50%</th>\n",
       "      <td>29.000000</td>\n",
       "      <td>NaN</td>\n",
       "      <td>NaN</td>\n",
       "      <td>9.000000e+05</td>\n",
       "      <td>5.000000</td>\n",
       "      <td>0.000000</td>\n",
       "      <td>NaN</td>\n",
       "      <td>NaN</td>\n",
       "      <td>0.000000</td>\n",
       "      <td>NaN</td>\n",
       "    </tr>\n",
       "    <tr>\n",
       "      <th>75%</th>\n",
       "      <td>32.000000</td>\n",
       "      <td>NaN</td>\n",
       "      <td>NaN</td>\n",
       "      <td>1.250000e+06</td>\n",
       "      <td>6.000000</td>\n",
       "      <td>1.000000</td>\n",
       "      <td>NaN</td>\n",
       "      <td>NaN</td>\n",
       "      <td>1.000000</td>\n",
       "      <td>NaN</td>\n",
       "    </tr>\n",
       "    <tr>\n",
       "      <th>max</th>\n",
       "      <td>35.000000</td>\n",
       "      <td>NaN</td>\n",
       "      <td>NaN</td>\n",
       "      <td>1.800000e+06</td>\n",
       "      <td>9.000000</td>\n",
       "      <td>1.000000</td>\n",
       "      <td>NaN</td>\n",
       "      <td>NaN</td>\n",
       "      <td>1.000000</td>\n",
       "      <td>NaN</td>\n",
       "    </tr>\n",
       "  </tbody>\n",
       "</table>\n",
       "</div>"
      ],
      "text/plain": [
       "                Age               Employment Type GraduateOrNot  AnnualIncome  \\\n",
       "count   1987.000000                          1987          1987  1.987000e+03   \n",
       "unique          NaN                             2             2           NaN   \n",
       "top             NaN  Private Sector/Self Employed           Yes           NaN   \n",
       "freq            NaN                          1417          1692           NaN   \n",
       "mean      29.650226                           NaN           NaN  9.327630e+05   \n",
       "std        2.913308                           NaN           NaN  3.768557e+05   \n",
       "min       25.000000                           NaN           NaN  3.000000e+05   \n",
       "25%       28.000000                           NaN           NaN  6.000000e+05   \n",
       "50%       29.000000                           NaN           NaN  9.000000e+05   \n",
       "75%       32.000000                           NaN           NaN  1.250000e+06   \n",
       "max       35.000000                           NaN           NaN  1.800000e+06   \n",
       "\n",
       "        FamilyMembers  ChronicDiseases FrequentFlyer EverTravelledAbroad  \\\n",
       "count     1987.000000      1987.000000          1987                1987   \n",
       "unique            NaN              NaN             2                   2   \n",
       "top               NaN              NaN            No                  No   \n",
       "freq              NaN              NaN          1570                1607   \n",
       "mean         4.752894         0.277806           NaN                 NaN   \n",
       "std          1.609650         0.448030           NaN                 NaN   \n",
       "min          2.000000         0.000000           NaN                 NaN   \n",
       "25%          4.000000         0.000000           NaN                 NaN   \n",
       "50%          5.000000         0.000000           NaN                 NaN   \n",
       "75%          6.000000         1.000000           NaN                 NaN   \n",
       "max          9.000000         1.000000           NaN                 NaN   \n",
       "\n",
       "        TravelInsurance AnnualIncome_binned  \n",
       "count       1987.000000                1987  \n",
       "unique              NaN                   3  \n",
       "top                 NaN                 Low  \n",
       "freq                NaN                 888  \n",
       "mean           0.357323                 NaN  \n",
       "std            0.479332                 NaN  \n",
       "min            0.000000                 NaN  \n",
       "25%            0.000000                 NaN  \n",
       "50%            0.000000                 NaN  \n",
       "75%            1.000000                 NaN  \n",
       "max            1.000000                 NaN  "
      ]
     },
     "execution_count": 12,
     "metadata": {},
     "output_type": "execute_result"
    }
   ],
   "source": [
    "df.describe(include='all')"
   ]
  },
  {
   "cell_type": "code",
   "execution_count": 13,
   "id": "0d106e5e",
   "metadata": {},
   "outputs": [
    {
     "data": {
      "text/html": [
       "<div>\n",
       "<style scoped>\n",
       "    .dataframe tbody tr th:only-of-type {\n",
       "        vertical-align: middle;\n",
       "    }\n",
       "\n",
       "    .dataframe tbody tr th {\n",
       "        vertical-align: top;\n",
       "    }\n",
       "\n",
       "    .dataframe thead th {\n",
       "        text-align: right;\n",
       "    }\n",
       "</style>\n",
       "<table border=\"1\" class=\"dataframe\">\n",
       "  <thead>\n",
       "    <tr style=\"text-align: right;\">\n",
       "      <th></th>\n",
       "      <th>FrequentFlyer</th>\n",
       "    </tr>\n",
       "  </thead>\n",
       "  <tbody>\n",
       "    <tr>\n",
       "      <th>No</th>\n",
       "      <td>1570</td>\n",
       "    </tr>\n",
       "    <tr>\n",
       "      <th>Yes</th>\n",
       "      <td>417</td>\n",
       "    </tr>\n",
       "  </tbody>\n",
       "</table>\n",
       "</div>"
      ],
      "text/plain": [
       "     FrequentFlyer\n",
       "No            1570\n",
       "Yes            417"
      ]
     },
     "execution_count": 13,
     "metadata": {},
     "output_type": "execute_result"
    }
   ],
   "source": [
    "Flyer_counts=df['FrequentFlyer'].value_counts().to_frame()\n",
    "Flyer_counts"
   ]
  },
  {
   "cell_type": "code",
   "execution_count": 14,
   "id": "1cff6017",
   "metadata": {},
   "outputs": [
    {
     "data": {
      "text/html": [
       "<div>\n",
       "<style scoped>\n",
       "    .dataframe tbody tr th:only-of-type {\n",
       "        vertical-align: middle;\n",
       "    }\n",
       "\n",
       "    .dataframe tbody tr th {\n",
       "        vertical-align: top;\n",
       "    }\n",
       "\n",
       "    .dataframe thead th {\n",
       "        text-align: right;\n",
       "    }\n",
       "</style>\n",
       "<table border=\"1\" class=\"dataframe\">\n",
       "  <thead>\n",
       "    <tr style=\"text-align: right;\">\n",
       "      <th></th>\n",
       "      <th>EverTravelledAbroad</th>\n",
       "    </tr>\n",
       "  </thead>\n",
       "  <tbody>\n",
       "    <tr>\n",
       "      <th>No</th>\n",
       "      <td>1607</td>\n",
       "    </tr>\n",
       "    <tr>\n",
       "      <th>Yes</th>\n",
       "      <td>380</td>\n",
       "    </tr>\n",
       "  </tbody>\n",
       "</table>\n",
       "</div>"
      ],
      "text/plain": [
       "     EverTravelledAbroad\n",
       "No                  1607\n",
       "Yes                  380"
      ]
     },
     "execution_count": 14,
     "metadata": {},
     "output_type": "execute_result"
    }
   ],
   "source": [
    "Travel_counts=df['EverTravelledAbroad'].value_counts().to_frame()\n",
    "Travel_counts"
   ]
  },
  {
   "cell_type": "code",
   "execution_count": 16,
   "id": "99467117",
   "metadata": {},
   "outputs": [
    {
     "name": "stdout",
     "output_type": "stream",
     "text": [
      "Requirement already satisfied: pandasql in c:\\users\\shanmukhi\\anaconda3\\lib\\site-packages (0.7.3)\n",
      "Requirement already satisfied: numpy in c:\\users\\shanmukhi\\anaconda3\\lib\\site-packages (from pandasql) (1.20.1)\n",
      "Requirement already satisfied: sqlalchemy in c:\\users\\shanmukhi\\anaconda3\\lib\\site-packages (from pandasql) (1.3.9)\n",
      "Requirement already satisfied: pandas in c:\\users\\shanmukhi\\anaconda3\\lib\\site-packages (from pandasql) (1.2.4)\n",
      "Requirement already satisfied: python-dateutil>=2.7.3 in c:\\users\\shanmukhi\\anaconda3\\lib\\site-packages (from pandas->pandasql) (2.8.1)\n",
      "Requirement already satisfied: pytz>=2017.3 in c:\\users\\shanmukhi\\anaconda3\\lib\\site-packages (from pandas->pandasql) (2021.1)\n",
      "Requirement already satisfied: six>=1.5 in c:\\users\\shanmukhi\\anaconda3\\lib\\site-packages (from python-dateutil>=2.7.3->pandas->pandasql) (1.15.0)\n"
     ]
    }
   ],
   "source": [
    "!pip install -U pandasql"
   ]
  },
  {
   "cell_type": "code",
   "execution_count": 17,
   "id": "e5c30e3a",
   "metadata": {},
   "outputs": [],
   "source": [
    "from pandasql import sqldf\n"
   ]
  },
  {
   "cell_type": "code",
   "execution_count": 18,
   "id": "1e5f6b87",
   "metadata": {},
   "outputs": [
    {
     "data": {
      "text/html": [
       "<div>\n",
       "<style scoped>\n",
       "    .dataframe tbody tr th:only-of-type {\n",
       "        vertical-align: middle;\n",
       "    }\n",
       "\n",
       "    .dataframe tbody tr th {\n",
       "        vertical-align: top;\n",
       "    }\n",
       "\n",
       "    .dataframe thead th {\n",
       "        text-align: right;\n",
       "    }\n",
       "</style>\n",
       "<table border=\"1\" class=\"dataframe\">\n",
       "  <thead>\n",
       "    <tr style=\"text-align: right;\">\n",
       "      <th></th>\n",
       "      <th>count(*)</th>\n",
       "    </tr>\n",
       "  </thead>\n",
       "  <tbody>\n",
       "    <tr>\n",
       "      <th>0</th>\n",
       "      <td>178</td>\n",
       "    </tr>\n",
       "  </tbody>\n",
       "</table>\n",
       "</div>"
      ],
      "text/plain": [
       "   count(*)\n",
       "0       178"
      ]
     },
     "execution_count": 18,
     "metadata": {},
     "output_type": "execute_result"
    }
   ],
   "source": [
    "#counting the no of people who visist frequently but has not taken insurance\n",
    "query=  ''' select count(*) from df where FrequentFlyer='Yes' and TravelInsurance=0 '''\n",
    "sqldf(query)\n"
   ]
  },
  {
   "cell_type": "markdown",
   "id": "8f989b86",
   "metadata": {},
   "source": [
    "Means among 417 frequent flyers 178 flyers have not taken insurance and 239 have insurance"
   ]
  },
  {
   "cell_type": "code",
   "execution_count": 19,
   "id": "3554bf51",
   "metadata": {},
   "outputs": [
    {
     "data": {
      "text/html": [
       "<div>\n",
       "<style scoped>\n",
       "    .dataframe tbody tr th:only-of-type {\n",
       "        vertical-align: middle;\n",
       "    }\n",
       "\n",
       "    .dataframe tbody tr th {\n",
       "        vertical-align: top;\n",
       "    }\n",
       "\n",
       "    .dataframe thead th {\n",
       "        text-align: right;\n",
       "    }\n",
       "</style>\n",
       "<table border=\"1\" class=\"dataframe\">\n",
       "  <thead>\n",
       "    <tr style=\"text-align: right;\">\n",
       "      <th></th>\n",
       "      <th>count(*)</th>\n",
       "    </tr>\n",
       "  </thead>\n",
       "  <tbody>\n",
       "    <tr>\n",
       "      <th>0</th>\n",
       "      <td>82</td>\n",
       "    </tr>\n",
       "  </tbody>\n",
       "</table>\n",
       "</div>"
      ],
      "text/plain": [
       "   count(*)\n",
       "0        82"
      ]
     },
     "execution_count": 19,
     "metadata": {},
     "output_type": "execute_result"
    }
   ],
   "source": [
    "#counting the people who dont have insurance but  travelled abroad \n",
    "query='''\n",
    "select count(*) from df where EverTravelledAbroad='Yes' and TravelInsurance=0 \n",
    "'''\n",
    "sqldf(query)"
   ]
  },
  {
   "cell_type": "markdown",
   "id": "a23bf8f7",
   "metadata": {},
   "source": [
    "Among 380 Abroad Travelers 82 dont have insurance"
   ]
  },
  {
   "cell_type": "code",
   "execution_count": 20,
   "id": "5f238858",
   "metadata": {},
   "outputs": [
    {
     "data": {
      "text/html": [
       "<div>\n",
       "<style scoped>\n",
       "    .dataframe tbody tr th:only-of-type {\n",
       "        vertical-align: middle;\n",
       "    }\n",
       "\n",
       "    .dataframe tbody tr th {\n",
       "        vertical-align: top;\n",
       "    }\n",
       "\n",
       "    .dataframe thead th {\n",
       "        text-align: right;\n",
       "    }\n",
       "</style>\n",
       "<table border=\"1\" class=\"dataframe\">\n",
       "  <thead>\n",
       "    <tr style=\"text-align: right;\">\n",
       "      <th></th>\n",
       "      <th>count(*)</th>\n",
       "    </tr>\n",
       "  </thead>\n",
       "  <tbody>\n",
       "    <tr>\n",
       "      <th>0</th>\n",
       "      <td>20</td>\n",
       "    </tr>\n",
       "  </tbody>\n",
       "</table>\n",
       "</div>"
      ],
      "text/plain": [
       "   count(*)\n",
       "0        20"
      ]
     },
     "execution_count": 20,
     "metadata": {},
     "output_type": "execute_result"
    }
   ],
   "source": [
    "#Lets see who are frequent travelers and had travelled abroad but didnot take insurance\n",
    "query='''\n",
    "select count(*) from df where FrequentFlyer='Yes' and EverTravelledAbroad='Yes' and TravelInsurance=0  \n",
    "'''\n",
    "sqldf(query)"
   ]
  },
  {
   "cell_type": "code",
   "execution_count": 48,
   "id": "78bb8752",
   "metadata": {},
   "outputs": [
    {
     "data": {
      "text/html": [
       "<div>\n",
       "<style scoped>\n",
       "    .dataframe tbody tr th:only-of-type {\n",
       "        vertical-align: middle;\n",
       "    }\n",
       "\n",
       "    .dataframe tbody tr th {\n",
       "        vertical-align: top;\n",
       "    }\n",
       "\n",
       "    .dataframe thead th {\n",
       "        text-align: right;\n",
       "    }\n",
       "</style>\n",
       "<table border=\"1\" class=\"dataframe\">\n",
       "  <thead>\n",
       "    <tr style=\"text-align: right;\">\n",
       "      <th></th>\n",
       "      <th>count(*)</th>\n",
       "    </tr>\n",
       "  </thead>\n",
       "  <tbody>\n",
       "    <tr>\n",
       "      <th>0</th>\n",
       "      <td>1037</td>\n",
       "    </tr>\n",
       "  </tbody>\n",
       "</table>\n",
       "</div>"
      ],
      "text/plain": [
       "   count(*)\n",
       "0      1037"
      ]
     },
     "execution_count": 48,
     "metadata": {},
     "output_type": "execute_result"
    }
   ],
   "source": [
    "query='''\n",
    "select count(*) from df where FrequentFlyer='No' and EverTravelledAbroad='No' and TravelInsurance=0  \n",
    "'''\n",
    "sqldf(query)"
   ]
  },
  {
   "cell_type": "code",
   "execution_count": 21,
   "id": "bbfb31c8",
   "metadata": {},
   "outputs": [
    {
     "data": {
      "text/html": [
       "<div>\n",
       "<style scoped>\n",
       "    .dataframe tbody tr th:only-of-type {\n",
       "        vertical-align: middle;\n",
       "    }\n",
       "\n",
       "    .dataframe tbody tr th {\n",
       "        vertical-align: top;\n",
       "    }\n",
       "\n",
       "    .dataframe thead th {\n",
       "        text-align: right;\n",
       "    }\n",
       "</style>\n",
       "<table border=\"1\" class=\"dataframe\">\n",
       "  <thead>\n",
       "    <tr style=\"text-align: right;\">\n",
       "      <th></th>\n",
       "      <th>count(*)</th>\n",
       "    </tr>\n",
       "  </thead>\n",
       "  <tbody>\n",
       "    <tr>\n",
       "      <th>0</th>\n",
       "      <td>148</td>\n",
       "    </tr>\n",
       "  </tbody>\n",
       "</table>\n",
       "</div>"
      ],
      "text/plain": [
       "   count(*)\n",
       "0       148"
      ]
     },
     "execution_count": 21,
     "metadata": {},
     "output_type": "execute_result"
    }
   ],
   "source": [
    "#Lets see who are frequent travelers and had travelled abroad and also took insurance\n",
    "query='''\n",
    "select count(*) from df where FrequentFlyer='Yes' and EverTravelledAbroad='Yes' and TravelInsurance=1  \n",
    "'''\n",
    "sqldf(query)"
   ]
  },
  {
   "cell_type": "code",
   "execution_count": 22,
   "id": "3c923609",
   "metadata": {},
   "outputs": [
    {
     "data": {
      "text/html": [
       "<div>\n",
       "<style scoped>\n",
       "    .dataframe tbody tr th:only-of-type {\n",
       "        vertical-align: middle;\n",
       "    }\n",
       "\n",
       "    .dataframe tbody tr th {\n",
       "        vertical-align: top;\n",
       "    }\n",
       "\n",
       "    .dataframe thead th {\n",
       "        text-align: right;\n",
       "    }\n",
       "</style>\n",
       "<table border=\"1\" class=\"dataframe\">\n",
       "  <thead>\n",
       "    <tr style=\"text-align: right;\">\n",
       "      <th></th>\n",
       "      <th>count(*)</th>\n",
       "    </tr>\n",
       "  </thead>\n",
       "  <tbody>\n",
       "    <tr>\n",
       "      <th>0</th>\n",
       "      <td>168</td>\n",
       "    </tr>\n",
       "  </tbody>\n",
       "</table>\n",
       "</div>"
      ],
      "text/plain": [
       "   count(*)\n",
       "0       168"
      ]
     },
     "execution_count": 22,
     "metadata": {},
     "output_type": "execute_result"
    }
   ],
   "source": [
    "#People who are frequent travelers and had travelled abroad \n",
    "query='''\n",
    "select count(*) from df where FrequentFlyer='Yes' and EverTravelledAbroad='Yes'   \n",
    "'''\n",
    "sqldf(query)"
   ]
  },
  {
   "cell_type": "markdown",
   "id": "e6014307",
   "metadata": {},
   "source": [
    "Hence there are 168 most important people who travel frequently and had gone abroad\n",
    "In those 148 are our customers with insurance but there are 20 people with no insurance lets see who they are"
   ]
  },
  {
   "cell_type": "code",
   "execution_count": 25,
   "id": "a337d280",
   "metadata": {
    "scrolled": true
   },
   "outputs": [
    {
     "data": {
      "text/html": [
       "<div>\n",
       "<style scoped>\n",
       "    .dataframe tbody tr th:only-of-type {\n",
       "        vertical-align: middle;\n",
       "    }\n",
       "\n",
       "    .dataframe tbody tr th {\n",
       "        vertical-align: top;\n",
       "    }\n",
       "\n",
       "    .dataframe thead th {\n",
       "        text-align: right;\n",
       "    }\n",
       "</style>\n",
       "<table border=\"1\" class=\"dataframe\">\n",
       "  <thead>\n",
       "    <tr style=\"text-align: right;\">\n",
       "      <th></th>\n",
       "      <th>Age</th>\n",
       "      <th>Employment Type</th>\n",
       "      <th>GraduateOrNot</th>\n",
       "      <th>AnnualIncome</th>\n",
       "      <th>FamilyMembers</th>\n",
       "      <th>ChronicDiseases</th>\n",
       "      <th>FrequentFlyer</th>\n",
       "      <th>EverTravelledAbroad</th>\n",
       "      <th>TravelInsurance</th>\n",
       "      <th>AnnualIncome_binned</th>\n",
       "    </tr>\n",
       "  </thead>\n",
       "  <tbody>\n",
       "    <tr>\n",
       "      <th>0</th>\n",
       "      <td>31</td>\n",
       "      <td>Government Sector</td>\n",
       "      <td>Yes</td>\n",
       "      <td>1500000</td>\n",
       "      <td>7</td>\n",
       "      <td>0</td>\n",
       "      <td>Yes</td>\n",
       "      <td>Yes</td>\n",
       "      <td>0</td>\n",
       "      <td>High</td>\n",
       "    </tr>\n",
       "    <tr>\n",
       "      <th>1</th>\n",
       "      <td>30</td>\n",
       "      <td>Private Sector/Self Employed</td>\n",
       "      <td>No</td>\n",
       "      <td>550000</td>\n",
       "      <td>6</td>\n",
       "      <td>0</td>\n",
       "      <td>Yes</td>\n",
       "      <td>Yes</td>\n",
       "      <td>0</td>\n",
       "      <td>Low</td>\n",
       "    </tr>\n",
       "    <tr>\n",
       "      <th>2</th>\n",
       "      <td>33</td>\n",
       "      <td>Private Sector/Self Employed</td>\n",
       "      <td>Yes</td>\n",
       "      <td>1400000</td>\n",
       "      <td>4</td>\n",
       "      <td>0</td>\n",
       "      <td>Yes</td>\n",
       "      <td>Yes</td>\n",
       "      <td>0</td>\n",
       "      <td>High</td>\n",
       "    </tr>\n",
       "    <tr>\n",
       "      <th>3</th>\n",
       "      <td>31</td>\n",
       "      <td>Private Sector/Self Employed</td>\n",
       "      <td>Yes</td>\n",
       "      <td>1250000</td>\n",
       "      <td>4</td>\n",
       "      <td>0</td>\n",
       "      <td>Yes</td>\n",
       "      <td>Yes</td>\n",
       "      <td>0</td>\n",
       "      <td>Medium</td>\n",
       "    </tr>\n",
       "    <tr>\n",
       "      <th>4</th>\n",
       "      <td>26</td>\n",
       "      <td>Private Sector/Self Employed</td>\n",
       "      <td>Yes</td>\n",
       "      <td>1500000</td>\n",
       "      <td>7</td>\n",
       "      <td>0</td>\n",
       "      <td>Yes</td>\n",
       "      <td>Yes</td>\n",
       "      <td>0</td>\n",
       "      <td>High</td>\n",
       "    </tr>\n",
       "    <tr>\n",
       "      <th>5</th>\n",
       "      <td>32</td>\n",
       "      <td>Government Sector</td>\n",
       "      <td>Yes</td>\n",
       "      <td>800000</td>\n",
       "      <td>4</td>\n",
       "      <td>0</td>\n",
       "      <td>Yes</td>\n",
       "      <td>Yes</td>\n",
       "      <td>0</td>\n",
       "      <td>Low</td>\n",
       "    </tr>\n",
       "    <tr>\n",
       "      <th>6</th>\n",
       "      <td>31</td>\n",
       "      <td>Private Sector/Self Employed</td>\n",
       "      <td>Yes</td>\n",
       "      <td>950000</td>\n",
       "      <td>5</td>\n",
       "      <td>0</td>\n",
       "      <td>Yes</td>\n",
       "      <td>Yes</td>\n",
       "      <td>0</td>\n",
       "      <td>Medium</td>\n",
       "    </tr>\n",
       "    <tr>\n",
       "      <th>7</th>\n",
       "      <td>33</td>\n",
       "      <td>Private Sector/Self Employed</td>\n",
       "      <td>Yes</td>\n",
       "      <td>1400000</td>\n",
       "      <td>5</td>\n",
       "      <td>0</td>\n",
       "      <td>Yes</td>\n",
       "      <td>Yes</td>\n",
       "      <td>0</td>\n",
       "      <td>High</td>\n",
       "    </tr>\n",
       "    <tr>\n",
       "      <th>8</th>\n",
       "      <td>25</td>\n",
       "      <td>Private Sector/Self Employed</td>\n",
       "      <td>No</td>\n",
       "      <td>1700000</td>\n",
       "      <td>5</td>\n",
       "      <td>1</td>\n",
       "      <td>Yes</td>\n",
       "      <td>Yes</td>\n",
       "      <td>0</td>\n",
       "      <td>High</td>\n",
       "    </tr>\n",
       "    <tr>\n",
       "      <th>9</th>\n",
       "      <td>25</td>\n",
       "      <td>Private Sector/Self Employed</td>\n",
       "      <td>No</td>\n",
       "      <td>600000</td>\n",
       "      <td>4</td>\n",
       "      <td>0</td>\n",
       "      <td>Yes</td>\n",
       "      <td>Yes</td>\n",
       "      <td>0</td>\n",
       "      <td>Low</td>\n",
       "    </tr>\n",
       "    <tr>\n",
       "      <th>10</th>\n",
       "      <td>27</td>\n",
       "      <td>Government Sector</td>\n",
       "      <td>Yes</td>\n",
       "      <td>900000</td>\n",
       "      <td>6</td>\n",
       "      <td>0</td>\n",
       "      <td>Yes</td>\n",
       "      <td>Yes</td>\n",
       "      <td>0</td>\n",
       "      <td>Medium</td>\n",
       "    </tr>\n",
       "    <tr>\n",
       "      <th>11</th>\n",
       "      <td>34</td>\n",
       "      <td>Private Sector/Self Employed</td>\n",
       "      <td>Yes</td>\n",
       "      <td>1500000</td>\n",
       "      <td>5</td>\n",
       "      <td>1</td>\n",
       "      <td>Yes</td>\n",
       "      <td>Yes</td>\n",
       "      <td>0</td>\n",
       "      <td>High</td>\n",
       "    </tr>\n",
       "    <tr>\n",
       "      <th>12</th>\n",
       "      <td>28</td>\n",
       "      <td>Private Sector/Self Employed</td>\n",
       "      <td>Yes</td>\n",
       "      <td>750000</td>\n",
       "      <td>4</td>\n",
       "      <td>0</td>\n",
       "      <td>Yes</td>\n",
       "      <td>Yes</td>\n",
       "      <td>0</td>\n",
       "      <td>Low</td>\n",
       "    </tr>\n",
       "    <tr>\n",
       "      <th>13</th>\n",
       "      <td>29</td>\n",
       "      <td>Private Sector/Self Employed</td>\n",
       "      <td>Yes</td>\n",
       "      <td>1350000</td>\n",
       "      <td>3</td>\n",
       "      <td>1</td>\n",
       "      <td>Yes</td>\n",
       "      <td>Yes</td>\n",
       "      <td>0</td>\n",
       "      <td>High</td>\n",
       "    </tr>\n",
       "    <tr>\n",
       "      <th>14</th>\n",
       "      <td>30</td>\n",
       "      <td>Private Sector/Self Employed</td>\n",
       "      <td>No</td>\n",
       "      <td>550000</td>\n",
       "      <td>3</td>\n",
       "      <td>0</td>\n",
       "      <td>Yes</td>\n",
       "      <td>Yes</td>\n",
       "      <td>0</td>\n",
       "      <td>Low</td>\n",
       "    </tr>\n",
       "    <tr>\n",
       "      <th>15</th>\n",
       "      <td>33</td>\n",
       "      <td>Government Sector</td>\n",
       "      <td>Yes</td>\n",
       "      <td>1000000</td>\n",
       "      <td>4</td>\n",
       "      <td>0</td>\n",
       "      <td>Yes</td>\n",
       "      <td>Yes</td>\n",
       "      <td>0</td>\n",
       "      <td>Medium</td>\n",
       "    </tr>\n",
       "    <tr>\n",
       "      <th>16</th>\n",
       "      <td>28</td>\n",
       "      <td>Private Sector/Self Employed</td>\n",
       "      <td>Yes</td>\n",
       "      <td>1400000</td>\n",
       "      <td>4</td>\n",
       "      <td>0</td>\n",
       "      <td>Yes</td>\n",
       "      <td>Yes</td>\n",
       "      <td>0</td>\n",
       "      <td>High</td>\n",
       "    </tr>\n",
       "    <tr>\n",
       "      <th>17</th>\n",
       "      <td>25</td>\n",
       "      <td>Private Sector/Self Employed</td>\n",
       "      <td>No</td>\n",
       "      <td>1350000</td>\n",
       "      <td>3</td>\n",
       "      <td>1</td>\n",
       "      <td>Yes</td>\n",
       "      <td>Yes</td>\n",
       "      <td>0</td>\n",
       "      <td>High</td>\n",
       "    </tr>\n",
       "    <tr>\n",
       "      <th>18</th>\n",
       "      <td>34</td>\n",
       "      <td>Private Sector/Self Employed</td>\n",
       "      <td>Yes</td>\n",
       "      <td>500000</td>\n",
       "      <td>5</td>\n",
       "      <td>0</td>\n",
       "      <td>Yes</td>\n",
       "      <td>Yes</td>\n",
       "      <td>0</td>\n",
       "      <td>Low</td>\n",
       "    </tr>\n",
       "    <tr>\n",
       "      <th>19</th>\n",
       "      <td>25</td>\n",
       "      <td>Private Sector/Self Employed</td>\n",
       "      <td>Yes</td>\n",
       "      <td>1400000</td>\n",
       "      <td>5</td>\n",
       "      <td>0</td>\n",
       "      <td>Yes</td>\n",
       "      <td>Yes</td>\n",
       "      <td>0</td>\n",
       "      <td>High</td>\n",
       "    </tr>\n",
       "  </tbody>\n",
       "</table>\n",
       "</div>"
      ],
      "text/plain": [
       "    Age               Employment Type GraduateOrNot  AnnualIncome  \\\n",
       "0    31             Government Sector           Yes       1500000   \n",
       "1    30  Private Sector/Self Employed            No        550000   \n",
       "2    33  Private Sector/Self Employed           Yes       1400000   \n",
       "3    31  Private Sector/Self Employed           Yes       1250000   \n",
       "4    26  Private Sector/Self Employed           Yes       1500000   \n",
       "5    32             Government Sector           Yes        800000   \n",
       "6    31  Private Sector/Self Employed           Yes        950000   \n",
       "7    33  Private Sector/Self Employed           Yes       1400000   \n",
       "8    25  Private Sector/Self Employed            No       1700000   \n",
       "9    25  Private Sector/Self Employed            No        600000   \n",
       "10   27             Government Sector           Yes        900000   \n",
       "11   34  Private Sector/Self Employed           Yes       1500000   \n",
       "12   28  Private Sector/Self Employed           Yes        750000   \n",
       "13   29  Private Sector/Self Employed           Yes       1350000   \n",
       "14   30  Private Sector/Self Employed            No        550000   \n",
       "15   33             Government Sector           Yes       1000000   \n",
       "16   28  Private Sector/Self Employed           Yes       1400000   \n",
       "17   25  Private Sector/Self Employed            No       1350000   \n",
       "18   34  Private Sector/Self Employed           Yes        500000   \n",
       "19   25  Private Sector/Self Employed           Yes       1400000   \n",
       "\n",
       "    FamilyMembers  ChronicDiseases FrequentFlyer EverTravelledAbroad  \\\n",
       "0               7                0           Yes                 Yes   \n",
       "1               6                0           Yes                 Yes   \n",
       "2               4                0           Yes                 Yes   \n",
       "3               4                0           Yes                 Yes   \n",
       "4               7                0           Yes                 Yes   \n",
       "5               4                0           Yes                 Yes   \n",
       "6               5                0           Yes                 Yes   \n",
       "7               5                0           Yes                 Yes   \n",
       "8               5                1           Yes                 Yes   \n",
       "9               4                0           Yes                 Yes   \n",
       "10              6                0           Yes                 Yes   \n",
       "11              5                1           Yes                 Yes   \n",
       "12              4                0           Yes                 Yes   \n",
       "13              3                1           Yes                 Yes   \n",
       "14              3                0           Yes                 Yes   \n",
       "15              4                0           Yes                 Yes   \n",
       "16              4                0           Yes                 Yes   \n",
       "17              3                1           Yes                 Yes   \n",
       "18              5                0           Yes                 Yes   \n",
       "19              5                0           Yes                 Yes   \n",
       "\n",
       "    TravelInsurance AnnualIncome_binned  \n",
       "0                 0                High  \n",
       "1                 0                 Low  \n",
       "2                 0                High  \n",
       "3                 0              Medium  \n",
       "4                 0                High  \n",
       "5                 0                 Low  \n",
       "6                 0              Medium  \n",
       "7                 0                High  \n",
       "8                 0                High  \n",
       "9                 0                 Low  \n",
       "10                0              Medium  \n",
       "11                0                High  \n",
       "12                0                 Low  \n",
       "13                0                High  \n",
       "14                0                 Low  \n",
       "15                0              Medium  \n",
       "16                0                High  \n",
       "17                0                High  \n",
       "18                0                 Low  \n",
       "19                0                High  "
      ]
     },
     "execution_count": 25,
     "metadata": {},
     "output_type": "execute_result"
    }
   ],
   "source": [
    "query='''\n",
    "select * from df where FrequentFlyer='Yes' and EverTravelledAbroad='Yes' and TravelInsurance=0  \n",
    "'''\n",
    "Target1=sqldf(query)\n",
    "Target1"
   ]
  },
  {
   "cell_type": "code",
   "execution_count": 26,
   "id": "a4faef92",
   "metadata": {
    "scrolled": true
   },
   "outputs": [
    {
     "data": {
      "text/plain": [
       "High      10\n",
       "Low        6\n",
       "Medium     4\n",
       "Name: AnnualIncome_binned, dtype: int64"
      ]
     },
     "execution_count": 26,
     "metadata": {},
     "output_type": "execute_result"
    }
   ],
   "source": [
    "Target1['AnnualIncome_binned'].value_counts()"
   ]
  },
  {
   "cell_type": "code",
   "execution_count": 27,
   "id": "7c51b025",
   "metadata": {},
   "outputs": [
    {
     "data": {
      "text/plain": [
       "0    16\n",
       "1     4\n",
       "Name: ChronicDiseases, dtype: int64"
      ]
     },
     "execution_count": 27,
     "metadata": {},
     "output_type": "execute_result"
    }
   ],
   "source": [
    "Target1['ChronicDiseases'].value_counts()"
   ]
  },
  {
   "cell_type": "code",
   "execution_count": 28,
   "id": "bd03a030",
   "metadata": {
    "scrolled": true
   },
   "outputs": [
    {
     "data": {
      "text/html": [
       "<div>\n",
       "<style scoped>\n",
       "    .dataframe tbody tr th:only-of-type {\n",
       "        vertical-align: middle;\n",
       "    }\n",
       "\n",
       "    .dataframe tbody tr th {\n",
       "        vertical-align: top;\n",
       "    }\n",
       "\n",
       "    .dataframe thead th {\n",
       "        text-align: right;\n",
       "    }\n",
       "</style>\n",
       "<table border=\"1\" class=\"dataframe\">\n",
       "  <thead>\n",
       "    <tr style=\"text-align: right;\">\n",
       "      <th></th>\n",
       "      <th>Age</th>\n",
       "      <th>Employment Type</th>\n",
       "      <th>GraduateOrNot</th>\n",
       "      <th>AnnualIncome</th>\n",
       "      <th>FamilyMembers</th>\n",
       "      <th>ChronicDiseases</th>\n",
       "      <th>FrequentFlyer</th>\n",
       "      <th>EverTravelledAbroad</th>\n",
       "      <th>TravelInsurance</th>\n",
       "      <th>AnnualIncome_binned</th>\n",
       "    </tr>\n",
       "  </thead>\n",
       "  <tbody>\n",
       "    <tr>\n",
       "      <th>8</th>\n",
       "      <td>25</td>\n",
       "      <td>Private Sector/Self Employed</td>\n",
       "      <td>No</td>\n",
       "      <td>1700000</td>\n",
       "      <td>5</td>\n",
       "      <td>1</td>\n",
       "      <td>Yes</td>\n",
       "      <td>Yes</td>\n",
       "      <td>0</td>\n",
       "      <td>High</td>\n",
       "    </tr>\n",
       "    <tr>\n",
       "      <th>11</th>\n",
       "      <td>34</td>\n",
       "      <td>Private Sector/Self Employed</td>\n",
       "      <td>Yes</td>\n",
       "      <td>1500000</td>\n",
       "      <td>5</td>\n",
       "      <td>1</td>\n",
       "      <td>Yes</td>\n",
       "      <td>Yes</td>\n",
       "      <td>0</td>\n",
       "      <td>High</td>\n",
       "    </tr>\n",
       "    <tr>\n",
       "      <th>13</th>\n",
       "      <td>29</td>\n",
       "      <td>Private Sector/Self Employed</td>\n",
       "      <td>Yes</td>\n",
       "      <td>1350000</td>\n",
       "      <td>3</td>\n",
       "      <td>1</td>\n",
       "      <td>Yes</td>\n",
       "      <td>Yes</td>\n",
       "      <td>0</td>\n",
       "      <td>High</td>\n",
       "    </tr>\n",
       "    <tr>\n",
       "      <th>17</th>\n",
       "      <td>25</td>\n",
       "      <td>Private Sector/Self Employed</td>\n",
       "      <td>No</td>\n",
       "      <td>1350000</td>\n",
       "      <td>3</td>\n",
       "      <td>1</td>\n",
       "      <td>Yes</td>\n",
       "      <td>Yes</td>\n",
       "      <td>0</td>\n",
       "      <td>High</td>\n",
       "    </tr>\n",
       "  </tbody>\n",
       "</table>\n",
       "</div>"
      ],
      "text/plain": [
       "    Age               Employment Type GraduateOrNot  AnnualIncome  \\\n",
       "8    25  Private Sector/Self Employed            No       1700000   \n",
       "11   34  Private Sector/Self Employed           Yes       1500000   \n",
       "13   29  Private Sector/Self Employed           Yes       1350000   \n",
       "17   25  Private Sector/Self Employed            No       1350000   \n",
       "\n",
       "    FamilyMembers  ChronicDiseases FrequentFlyer EverTravelledAbroad  \\\n",
       "8               5                1           Yes                 Yes   \n",
       "11              5                1           Yes                 Yes   \n",
       "13              3                1           Yes                 Yes   \n",
       "17              3                1           Yes                 Yes   \n",
       "\n",
       "    TravelInsurance AnnualIncome_binned  \n",
       "8                 0                High  \n",
       "11                0                High  \n",
       "13                0                High  \n",
       "17                0                High  "
      ]
     },
     "execution_count": 28,
     "metadata": {},
     "output_type": "execute_result"
    }
   ],
   "source": [
    "cd=Target1[Target1['ChronicDiseases']==1]\n",
    "cd"
   ]
  },
  {
   "cell_type": "markdown",
   "id": "c5a38b0f",
   "metadata": {},
   "source": [
    "All the people with chronic diseases have high income and are in the age of 25-35 years with people of age 25 being not graduated.."
   ]
  },
  {
   "cell_type": "code",
   "execution_count": 46,
   "id": "2240b8a4",
   "metadata": {},
   "outputs": [
    {
     "data": {
      "text/html": [
       "<div>\n",
       "<style scoped>\n",
       "    .dataframe tbody tr th:only-of-type {\n",
       "        vertical-align: middle;\n",
       "    }\n",
       "\n",
       "    .dataframe tbody tr th {\n",
       "        vertical-align: top;\n",
       "    }\n",
       "\n",
       "    .dataframe thead th {\n",
       "        text-align: right;\n",
       "    }\n",
       "</style>\n",
       "<table border=\"1\" class=\"dataframe\">\n",
       "  <thead>\n",
       "    <tr style=\"text-align: right;\">\n",
       "      <th></th>\n",
       "      <th>Age</th>\n",
       "      <th>Employment Type</th>\n",
       "      <th>GraduateOrNot</th>\n",
       "      <th>AnnualIncome</th>\n",
       "      <th>FamilyMembers</th>\n",
       "      <th>ChronicDiseases</th>\n",
       "      <th>FrequentFlyer</th>\n",
       "      <th>EverTravelledAbroad</th>\n",
       "      <th>TravelInsurance</th>\n",
       "      <th>AnnualIncome_binned</th>\n",
       "    </tr>\n",
       "  </thead>\n",
       "  <tbody>\n",
       "    <tr>\n",
       "      <th>0</th>\n",
       "      <td>31</td>\n",
       "      <td>Government Sector</td>\n",
       "      <td>Yes</td>\n",
       "      <td>1500000</td>\n",
       "      <td>7</td>\n",
       "      <td>0</td>\n",
       "      <td>Yes</td>\n",
       "      <td>Yes</td>\n",
       "      <td>0</td>\n",
       "      <td>High</td>\n",
       "    </tr>\n",
       "    <tr>\n",
       "      <th>1</th>\n",
       "      <td>30</td>\n",
       "      <td>Private Sector/Self Employed</td>\n",
       "      <td>No</td>\n",
       "      <td>550000</td>\n",
       "      <td>6</td>\n",
       "      <td>0</td>\n",
       "      <td>Yes</td>\n",
       "      <td>Yes</td>\n",
       "      <td>0</td>\n",
       "      <td>Low</td>\n",
       "    </tr>\n",
       "    <tr>\n",
       "      <th>2</th>\n",
       "      <td>33</td>\n",
       "      <td>Private Sector/Self Employed</td>\n",
       "      <td>Yes</td>\n",
       "      <td>1400000</td>\n",
       "      <td>4</td>\n",
       "      <td>0</td>\n",
       "      <td>Yes</td>\n",
       "      <td>Yes</td>\n",
       "      <td>0</td>\n",
       "      <td>High</td>\n",
       "    </tr>\n",
       "    <tr>\n",
       "      <th>3</th>\n",
       "      <td>31</td>\n",
       "      <td>Private Sector/Self Employed</td>\n",
       "      <td>Yes</td>\n",
       "      <td>1250000</td>\n",
       "      <td>4</td>\n",
       "      <td>0</td>\n",
       "      <td>Yes</td>\n",
       "      <td>Yes</td>\n",
       "      <td>0</td>\n",
       "      <td>Medium</td>\n",
       "    </tr>\n",
       "    <tr>\n",
       "      <th>4</th>\n",
       "      <td>26</td>\n",
       "      <td>Private Sector/Self Employed</td>\n",
       "      <td>Yes</td>\n",
       "      <td>1500000</td>\n",
       "      <td>7</td>\n",
       "      <td>0</td>\n",
       "      <td>Yes</td>\n",
       "      <td>Yes</td>\n",
       "      <td>0</td>\n",
       "      <td>High</td>\n",
       "    </tr>\n",
       "  </tbody>\n",
       "</table>\n",
       "</div>"
      ],
      "text/plain": [
       "   Age               Employment Type GraduateOrNot  AnnualIncome  \\\n",
       "0   31             Government Sector           Yes       1500000   \n",
       "1   30  Private Sector/Self Employed            No        550000   \n",
       "2   33  Private Sector/Self Employed           Yes       1400000   \n",
       "3   31  Private Sector/Self Employed           Yes       1250000   \n",
       "4   26  Private Sector/Self Employed           Yes       1500000   \n",
       "\n",
       "   FamilyMembers  ChronicDiseases FrequentFlyer EverTravelledAbroad  \\\n",
       "0              7                0           Yes                 Yes   \n",
       "1              6                0           Yes                 Yes   \n",
       "2              4                0           Yes                 Yes   \n",
       "3              4                0           Yes                 Yes   \n",
       "4              7                0           Yes                 Yes   \n",
       "\n",
       "   TravelInsurance AnnualIncome_binned  \n",
       "0                0                High  \n",
       "1                0                 Low  \n",
       "2                0                High  \n",
       "3                0              Medium  \n",
       "4                0                High  "
      ]
     },
     "execution_count": 46,
     "metadata": {},
     "output_type": "execute_result"
    }
   ],
   "source": [
    "no_cd=Target1[Target1['ChronicDiseases']==0]\n",
    "no_cd.head()"
   ]
  },
  {
   "cell_type": "markdown",
   "id": "1c229b52",
   "metadata": {},
   "source": [
    "****High income-6people ; Medium Income-4 ; low-6 with people in range of 25-34 age and most of them have more than 3 dependent family members"
   ]
  },
  {
   "cell_type": "code",
   "execution_count": 30,
   "id": "c6d924dd",
   "metadata": {},
   "outputs": [
    {
     "data": {
      "text/html": [
       "<div>\n",
       "<style scoped>\n",
       "    .dataframe tbody tr th:only-of-type {\n",
       "        vertical-align: middle;\n",
       "    }\n",
       "\n",
       "    .dataframe tbody tr th {\n",
       "        vertical-align: top;\n",
       "    }\n",
       "\n",
       "    .dataframe thead th {\n",
       "        text-align: right;\n",
       "    }\n",
       "</style>\n",
       "<table border=\"1\" class=\"dataframe\">\n",
       "  <thead>\n",
       "    <tr style=\"text-align: right;\">\n",
       "      <th></th>\n",
       "      <th>Age</th>\n",
       "      <th>Employment Type</th>\n",
       "      <th>GraduateOrNot</th>\n",
       "      <th>AnnualIncome</th>\n",
       "      <th>FamilyMembers</th>\n",
       "      <th>ChronicDiseases</th>\n",
       "      <th>FrequentFlyer</th>\n",
       "      <th>EverTravelledAbroad</th>\n",
       "      <th>TravelInsurance</th>\n",
       "      <th>AnnualIncome_binned</th>\n",
       "    </tr>\n",
       "  </thead>\n",
       "  <tbody>\n",
       "    <tr>\n",
       "      <th>0</th>\n",
       "      <td>25</td>\n",
       "      <td>Government Sector</td>\n",
       "      <td>Yes</td>\n",
       "      <td>750000</td>\n",
       "      <td>2</td>\n",
       "      <td>0</td>\n",
       "      <td>Yes</td>\n",
       "      <td>No</td>\n",
       "      <td>0</td>\n",
       "      <td>Low</td>\n",
       "    </tr>\n",
       "    <tr>\n",
       "      <th>1</th>\n",
       "      <td>25</td>\n",
       "      <td>Government Sector</td>\n",
       "      <td>Yes</td>\n",
       "      <td>750000</td>\n",
       "      <td>5</td>\n",
       "      <td>1</td>\n",
       "      <td>Yes</td>\n",
       "      <td>No</td>\n",
       "      <td>0</td>\n",
       "      <td>Low</td>\n",
       "    </tr>\n",
       "    <tr>\n",
       "      <th>2</th>\n",
       "      <td>25</td>\n",
       "      <td>Private Sector/Self Employed</td>\n",
       "      <td>No</td>\n",
       "      <td>600000</td>\n",
       "      <td>4</td>\n",
       "      <td>0</td>\n",
       "      <td>Yes</td>\n",
       "      <td>No</td>\n",
       "      <td>0</td>\n",
       "      <td>Low</td>\n",
       "    </tr>\n",
       "    <tr>\n",
       "      <th>3</th>\n",
       "      <td>25</td>\n",
       "      <td>Private Sector/Self Employed</td>\n",
       "      <td>No</td>\n",
       "      <td>600000</td>\n",
       "      <td>4</td>\n",
       "      <td>1</td>\n",
       "      <td>Yes</td>\n",
       "      <td>No</td>\n",
       "      <td>0</td>\n",
       "      <td>Low</td>\n",
       "    </tr>\n",
       "    <tr>\n",
       "      <th>4</th>\n",
       "      <td>25</td>\n",
       "      <td>Private Sector/Self Employed</td>\n",
       "      <td>No</td>\n",
       "      <td>600000</td>\n",
       "      <td>5</td>\n",
       "      <td>0</td>\n",
       "      <td>Yes</td>\n",
       "      <td>No</td>\n",
       "      <td>0</td>\n",
       "      <td>Low</td>\n",
       "    </tr>\n",
       "  </tbody>\n",
       "</table>\n",
       "</div>"
      ],
      "text/plain": [
       "   Age               Employment Type GraduateOrNot  AnnualIncome  \\\n",
       "0   25             Government Sector           Yes        750000   \n",
       "1   25             Government Sector           Yes        750000   \n",
       "2   25  Private Sector/Self Employed            No        600000   \n",
       "3   25  Private Sector/Self Employed            No        600000   \n",
       "4   25  Private Sector/Self Employed            No        600000   \n",
       "\n",
       "   FamilyMembers  ChronicDiseases FrequentFlyer EverTravelledAbroad  \\\n",
       "0              2                0           Yes                  No   \n",
       "1              5                1           Yes                  No   \n",
       "2              4                0           Yes                  No   \n",
       "3              4                1           Yes                  No   \n",
       "4              5                0           Yes                  No   \n",
       "\n",
       "   TravelInsurance AnnualIncome_binned  \n",
       "0                0                 Low  \n",
       "1                0                 Low  \n",
       "2                0                 Low  \n",
       "3                0                 Low  \n",
       "4                0                 Low  "
      ]
     },
     "execution_count": 30,
     "metadata": {},
     "output_type": "execute_result"
    }
   ],
   "source": [
    "#Lets see people being either Frequent Traveller or abroad traveller with no insurance\n",
    "query='''\n",
    "select * from (select * from df where TravelInsurance=0) where FrequentFlyer='Yes' or EverTravelledAbroad='Yes'\n",
    "except\n",
    "select * from (select * from df where TravelInsurance=0) where FrequentFlyer='Yes' and EverTravelledAbroad='Yes'\n",
    "'''\n",
    "Target2=sqldf(query)\n",
    "Target2.head()"
   ]
  },
  {
   "cell_type": "markdown",
   "id": "08c002eb",
   "metadata": {},
   "source": [
    "We see there are 185 people with either being a frequent traveller or abroad traveller but not both with no insurance"
   ]
  },
  {
   "cell_type": "code",
   "execution_count": 31,
   "id": "bd35113e",
   "metadata": {},
   "outputs": [
    {
     "data": {
      "text/plain": [
       "(55, 10)"
      ]
     },
     "execution_count": 31,
     "metadata": {},
     "output_type": "execute_result"
    }
   ],
   "source": [
    "cd1=Target2[Target2['ChronicDiseases']==1]\n",
    "cd1.shape"
   ]
  },
  {
   "cell_type": "code",
   "execution_count": 32,
   "id": "26158878",
   "metadata": {},
   "outputs": [
    {
     "data": {
      "text/plain": [
       "(130, 10)"
      ]
     },
     "execution_count": 32,
     "metadata": {},
     "output_type": "execute_result"
    }
   ],
   "source": [
    "no_cd1=Target2[Target2['ChronicDiseases']==0]\n",
    "no_cd1.shape"
   ]
  },
  {
   "cell_type": "code",
   "execution_count": 33,
   "id": "f61e8a40",
   "metadata": {},
   "outputs": [
    {
     "data": {
      "text/plain": [
       "Medium    105\n",
       "Low        70\n",
       "High       10\n",
       "Name: AnnualIncome_binned, dtype: int64"
      ]
     },
     "execution_count": 33,
     "metadata": {},
     "output_type": "execute_result"
    }
   ],
   "source": [
    "Target2['AnnualIncome_binned'].value_counts()"
   ]
  },
  {
   "cell_type": "markdown",
   "id": "e0821f79",
   "metadata": {},
   "source": [
    "More than 60% people are of high or medimum level income"
   ]
  },
  {
   "cell_type": "code",
   "execution_count": 64,
   "id": "a59c5c27",
   "metadata": {},
   "outputs": [
    {
     "data": {
      "text/plain": [
       "(77, 10)"
      ]
     },
     "execution_count": 64,
     "metadata": {},
     "output_type": "execute_result"
    }
   ],
   "source": [
    "query='''\n",
    "select * from (select * from Target2 where ChronicDiseases=0) where AnnualIncome_binned in ('High','Medium')\n",
    "'''\n",
    "Target2_1=sqldf(query)\n",
    "Target2_1.shape"
   ]
  },
  {
   "cell_type": "code",
   "execution_count": 35,
   "id": "59e343e7",
   "metadata": {},
   "outputs": [
    {
     "data": {
      "text/plain": [
       "Private Sector/Self Employed    60\n",
       "Government Sector               17\n",
       "Name: Employment Type, dtype: int64"
      ]
     },
     "execution_count": 35,
     "metadata": {},
     "output_type": "execute_result"
    }
   ],
   "source": [
    "Target2_1['Employment Type'].value_counts()"
   ]
  },
  {
   "cell_type": "code",
   "execution_count": 36,
   "id": "bace2809",
   "metadata": {},
   "outputs": [
    {
     "data": {
      "text/plain": [
       "Yes    69\n",
       "No      8\n",
       "Name: GraduateOrNot, dtype: int64"
      ]
     },
     "execution_count": 36,
     "metadata": {},
     "output_type": "execute_result"
    }
   ],
   "source": [
    "Target2_1['GraduateOrNot'].value_counts()"
   ]
  },
  {
   "cell_type": "code",
   "execution_count": 65,
   "id": "be848dcf",
   "metadata": {},
   "outputs": [
    {
     "data": {
      "text/plain": [
       "(56, 10)"
      ]
     },
     "execution_count": 65,
     "metadata": {},
     "output_type": "execute_result"
    }
   ],
   "source": [
    "Target2_1_2=Target2_1.loc[(Target2_1['FamilyMembers']>3)]\n",
    "Target2_1_2.shape"
   ]
  },
  {
   "cell_type": "code",
   "execution_count": 37,
   "id": "2965bf2d",
   "metadata": {},
   "outputs": [
    {
     "data": {
      "text/plain": [
       "(45, 10)"
      ]
     },
     "execution_count": 37,
     "metadata": {},
     "output_type": "execute_result"
    }
   ],
   "source": [
    "# lets find people of private sector/self employed with more than 3 family memebers\n",
    "Target2_2=Target2_1.loc[(Target2_1['Employment Type']=='Private Sector/Self Employed') & (Target2_1['FamilyMembers']>3)]\n",
    "Target2_2.shape"
   ]
  },
  {
   "cell_type": "markdown",
   "id": "a2093a22",
   "metadata": {},
   "source": [
    "All of them are in the age of 25-35 years"
   ]
  },
  {
   "cell_type": "markdown",
   "id": "bf0eb2bb",
   "metadata": {},
   "source": [
    "## DATA VISUALIZATION\n"
   ]
  },
  {
   "cell_type": "code",
   "execution_count": 38,
   "id": "ea5efe78",
   "metadata": {},
   "outputs": [],
   "source": [
    "#visualize count of people  grouped by familymemebers\n",
    "df_bar=df[['FamilyMembers']].value_counts().to_frame()\n",
    "df_bar.rename(columns={0:'count'},inplace=True)\n",
    "df_bar_sorted=df_bar.sort_values(by=['FamilyMembers'])\n"
   ]
  },
  {
   "cell_type": "code",
   "execution_count": 39,
   "id": "58cbff83",
   "metadata": {},
   "outputs": [
    {
     "data": {
      "image/png": "[encoded data removed]",
      "text/plain": [
       "<Figure size 432x288 with 1 Axes>"
      ]
     },
     "metadata": {
      "needs_background": "light"
     },
     "output_type": "display_data"
    }
   ],
   "source": [
    "df_bar_sorted.plot.bar()\n",
    "plt.xlabel('FamilyMembers')\n",
    "plt.ylabel('Count')\n",
    "plt.title('No of people with respective no of Family Members living with them')\n",
    "plt.show()"
   ]
  },
  {
   "cell_type": "code",
   "execution_count": 40,
   "id": "c6330c5b",
   "metadata": {},
   "outputs": [],
   "source": [
    "df_bar1=cd[['FamilyMembers']].value_counts().to_frame()\n",
    "df_bar1.rename(columns={0:'count'},inplace=True)\n",
    "df_bar1_sorted=df_bar1.sort_values(by=['FamilyMembers'])\n",
    "\n",
    "df_bar2=no_cd[['FamilyMembers']].value_counts().to_frame()\n",
    "df_bar2.rename(columns={0:'count'},inplace=True)\n",
    "df_bar2_sorted=df_bar2.sort_values(by=['FamilyMembers'])\n"
   ]
  },
  {
   "cell_type": "code",
   "execution_count": 41,
   "id": "34d62432",
   "metadata": {},
   "outputs": [
    {
     "data": {
      "image/png": "[encoded data removed]",
      "text/plain": [
       "<Figure size 1440x432 with 2 Axes>"
      ]
     },
     "metadata": {
      "needs_background": "light"
     },
     "output_type": "display_data"
    }
   ],
   "source": [
    "fig = plt.figure() # create figure\n",
    "\n",
    "ax0 = fig.add_subplot(121) \n",
    "ax1 = fig.add_subplot(122) \n",
    "\n",
    "plt.suptitle('Box Plots of count of people living with their respective family members with being Frequent and Abroad travel history but no Insurance')\n",
    "\n",
    "df_bar1_sorted.plot(kind='bar',color='red',figsize=(20, 6),ax=ax0)\n",
    "ax0.set_title('People with chronic diseases')\n",
    "ax0.set_xlabel('FamilyMembers')\n",
    "ax0.set_ylabel('Count')\n",
    "\n",
    "df_bar2_sorted.plot(kind='bar',color='green',figsize=(20, 6),ax=ax1)\n",
    "ax1.set_title ('People with no chronic diseases')\n",
    "ax1.set_ylabel('Count')\n",
    "ax1.set_xlabel('FamilyMembers')\n",
    "\n",
    "\n",
    "plt.show()"
   ]
  },
  {
   "cell_type": "code",
   "execution_count": 42,
   "id": "deaca9f6",
   "metadata": {},
   "outputs": [],
   "source": [
    "df_bar3=cd1[['FamilyMembers']].value_counts().to_frame()\n",
    "df_bar3.rename(columns={0:'count'},inplace=True)\n",
    "df_bar3_sorted=df_bar3.sort_values(by=['FamilyMembers'])\n",
    "\n",
    "df_bar4=no_cd1[['FamilyMembers']].value_counts().to_frame()\n",
    "df_bar4.rename(columns={0:'count'},inplace=True)\n",
    "df_bar4_sorted=df_bar4.sort_values(by=['FamilyMembers'])"
   ]
  },
  {
   "cell_type": "code",
   "execution_count": 43,
   "id": "6da7b106",
   "metadata": {},
   "outputs": [
    {
     "data": {
      "image/png": "[encoded data removed]",
      "text/plain": [
       "<Figure size 1440x432 with 2 Axes>"
      ]
     },
     "metadata": {
      "needs_background": "light"
     },
     "output_type": "display_data"
    }
   ],
   "source": [
    "fig = plt.figure() # create figure\n",
    "\n",
    "ax0 = fig.add_subplot(121) \n",
    "ax1 = fig.add_subplot(122) \n",
    "\n",
    "plt.suptitle('Box Plots of count of people living with their respective family members with being either Frequent or Abroad travel history but no Insurance')\n",
    "\n",
    "df_bar3_sorted.plot(kind='bar',color='red',figsize=(20, 6),ax=ax0)\n",
    "ax0.set_title('People with chronic diseases')\n",
    "ax0.set_xlabel('FamilyMembers')\n",
    "ax0.set_ylabel('Count')\n",
    "\n",
    "df_bar4_sorted.plot(kind='bar',color='green',figsize=(20, 6),ax=ax1)\n",
    "ax1.set_title ('People with no chronic diseases')\n",
    "ax1.set_ylabel('Count')\n",
    "ax1.set_xlabel('FamilyMembers')\n",
    "\n",
    "\n",
    "plt.show()"
   ]
  },
  {
   "cell_type": "code",
   "execution_count": 44,
   "id": "7ba63bc1",
   "metadata": {
    "scrolled": true
   },
   "outputs": [
    {
     "data": {
      "image/png": "[encoded data removed]",
      "text/plain": [
       "<Figure size 576x360 with 1 Axes>"
      ]
     },
     "metadata": {
      "needs_background": "light"
     },
     "output_type": "display_data"
    }
   ],
   "source": [
    "#Histograms to see age frequency distribution of people with no travel insurance\n",
    "\n",
    "count, bin_edges = np.histogram(Target1['Age'],9)\n",
    "\n",
    "Target1['Age'].plot(kind='hist', figsize=(8, 5), xticks=bin_edges)\n",
    "\n",
    "plt.title('Frequency of People wrt Age with no insurance but are Frequent Flyers and Abroad Travelled') # add a title to the histogram\n",
    "plt.ylabel('Frequency') # add y-label\n",
    "plt.xlabel('Age') # add x-label\n",
    "\n",
    "plt.show()"
   ]
  },
  {
   "cell_type": "code",
   "execution_count": 45,
   "id": "184f0c6b",
   "metadata": {},
   "outputs": [
    {
     "data": {
      "image/png": "[encoded data removed]",
      "text/plain": [
       "<Figure size 576x360 with 1 Axes>"
      ]
     },
     "metadata": {
      "needs_background": "light"
     },
     "output_type": "display_data"
    }
   ],
   "source": [
    "count, bin_edges = np.histogram(Target2['Age'],10)\n",
    "\n",
    "Target2['Age'].plot(kind='hist', figsize=(8, 5), xticks=bin_edges)\n",
    "\n",
    "plt.title('Frequency of People wrt Age with no insurance but are either Frequent Flyers or Abroad Travelled') # add a title to the histogram\n",
    "plt.ylabel('Frequency') # add y-label\n",
    "plt.xlabel('Age') # add x-label\n",
    "\n",
    "plt.show()"
   ]
  },
  {
   "cell_type": "code",
   "execution_count": null,
   "id": "475a3122",
   "metadata": {},
   "outputs": [],
   "source": []
  }
 ],
 "metadata": {
  "kernelspec": {
   "display_name": "Python 3",
   "language": "python",
   "name": "python3"
  },
  "language_info": {
   "codemirror_mode": {
    "name": "ipython",
    "version": 3
   },
   "file_extension": ".py",
   "mimetype": "text/x-python",
   "name": "python",
   "nbconvert_exporter": "python",
   "pygments_lexer": "ipython3",
   "version": "3.8.8"
  }
 },
 "nbformat": 4,
 "nbformat_minor": 5
}
